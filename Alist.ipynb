{
  "nbformat": 4,
  "nbformat_minor": 0,
  "metadata": {
    "colab": {
      "provenance": [],
      "authorship_tag": "ABX9TyPEZcdvlScWGBQGNsV5lOia",
      "include_colab_link": true
    },
    "kernelspec": {
      "name": "python3",
      "display_name": "Python 3"
    },
    "language_info": {
      "name": "python"
    }
  },
  "cells": [
    {
      "cell_type": "markdown",
      "metadata": {
        "id": "view-in-github",
        "colab_type": "text"
      },
      "source": [
        "<a href=\"https://colab.research.google.com/github/iErics/colab/blob/master/Alist.ipynb\" target=\"_parent\"><img src=\"https://colab.research.google.com/assets/colab-badge.svg\" alt=\"Open In Colab\"/></a>"
      ]
    },
    {
      "cell_type": "markdown",
      "source": [
        "安装cloudflar tunnel和Alist"
      ],
      "metadata": {
        "id": "GeSS1rlY9TXT"
      }
    },
    {
      "cell_type": "code",
      "execution_count": null,
      "metadata": {
        "id": "vhCcQTIE16FV"
      },
      "outputs": [],
      "source": [
        "!wget -q https://github.com/cloudflare/cloudflared/releases/latest/download/cloudflared-linux-amd64.deb\n",
        "!dpkg -i cloudflared-linux-amd64.deb\n",
        "!curl -fsSL \"https://alist.nn.ci/v3.sh\" | bash -s install\n",
        "%cd /opt/alist"
      ]
    },
    {
      "cell_type": "code",
      "source": [
        "!nohup ./alist server > alist.file 2>&1 &"
      ],
      "metadata": {
        "id": "28NuSXqhDfyQ"
      },
      "execution_count": null,
      "outputs": []
    },
    {
      "cell_type": "code",
      "source": [
        "!!nohup cloudflared tunnel --url http://127.0.0.1:5244 > cloudflared.file 2>&1 &"
      ],
      "metadata": {
        "id": "zBuii97wCoWA"
      },
      "execution_count": null,
      "outputs": []
    },
    {
      "cell_type": "code",
      "source": [
        "!ip -s -h link"
      ],
      "metadata": {
        "id": "JQutmHjJ_zUa"
      },
      "execution_count": null,
      "outputs": []
    }
  ]
}