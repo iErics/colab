{
  "nbformat": 4,
  "nbformat_minor": 0,
  "metadata": {
    "colab": {
      "provenance": [],
      "mount_file_id": "172PcOMMDWFubJM9o-cqEiLWYYEHw8cGU",
      "authorship_tag": "ABX9TyOjSzN9y8ybqNGdPD8ogBLb",
      "include_colab_link": true
    },
    "kernelspec": {
      "name": "python3",
      "display_name": "Python 3"
    },
    "language_info": {
      "name": "python"
    },
    "accelerator": "GPU",
    "gpuClass": "standard"
  },
  "cells": [
    {
      "cell_type": "markdown",
      "metadata": {
        "id": "view-in-github",
        "colab_type": "text"
      },
      "source": [
        "<a href=\"https://colab.research.google.com/github/iErics/colab/blob/master/captcha_trainer.ipynb\" target=\"_parent\"><img src=\"https://colab.research.google.com/assets/colab-badge.svg\" alt=\"Open In Colab\"/></a>"
      ]
    },
    {
      "cell_type": "code",
      "source": [
        "!nvidia-smi"
      ],
      "metadata": {
        "id": "Z65c4vT1-GdW"
      },
      "execution_count": null,
      "outputs": []
    },
    {
      "cell_type": "code",
      "execution_count": 2,
      "metadata": {
        "colab": {
          "base_uri": "https://localhost:8080/"
        },
        "id": "RKtrpRKpv1Q5",
        "outputId": "dbaf9699-9166-48c3-8c53-be84a4b74daa"
      },
      "outputs": [
        {
          "output_type": "stream",
          "name": "stdout",
          "text": [
            "Python 3.8.10\n"
          ]
        }
      ],
      "source": [
        "!python --version"
      ]
    },
    {
      "cell_type": "code",
      "source": [
        "!ls -l /usr/local | grep cuda"
      ],
      "metadata": {
        "id": "kSaaogbmwWZb"
      },
      "execution_count": null,
      "outputs": []
    },
    {
      "cell_type": "code",
      "source": [
        "!nvcc -V"
      ],
      "metadata": {
        "id": "3b521xmow637"
      },
      "execution_count": null,
      "outputs": []
    },
    {
      "cell_type": "code",
      "source": [
        "!pip list | grep tensorflow"
      ],
      "metadata": {
        "id": "e9_Mnjalxht-"
      },
      "execution_count": null,
      "outputs": []
    },
    {
      "cell_type": "code",
      "source": [
        "!python -c 'import tensorflow as tf; print(tf.__version__)'"
      ],
      "metadata": {
        "id": "2LREiphGxpfZ"
      },
      "execution_count": null,
      "outputs": []
    },
    {
      "cell_type": "code",
      "source": [
        "!pip uninstall -y tensorflow tensor2tensor tensorboard tensorboardcolab tensorflow-datasets tensorflow-estimator tensorflow-gan tensorflow-hub tensorflow-metadata tensorflow-privacy tensorflow-probability\n",
        "!pip install tensorflow-gpu==2.8\n",
        "!git clone https://github.com/kerlomz/captcha_trainer.git && %cd captcha_trainer\n",
        "!pip install -r requirements.txt"
      ],
      "metadata": {
        "id": "Mbixsh_v_fw-"
      },
      "execution_count": null,
      "outputs": []
    },
    {
      "cell_type": "code",
      "source": [
        "!cp /content/drive/MyDrive/captcha/mnist.zip /content/captcha_trainer/dataset"
      ],
      "metadata": {
        "id": "3fxbc4rACuj2"
      },
      "execution_count": 13,
      "outputs": []
    },
    {
      "cell_type": "code",
      "source": [
        "import zipfile\n",
        "\n",
        "# 解压文件到指定目录\n",
        "with zipfile.ZipFile('/content/captcha_trainer/dataset/mnist.zip', 'r') as zip_ref:\n",
        "    zip_ref.extractall('/content/captcha_trainer/dataset/')"
      ],
      "metadata": {
        "id": "FadZyFm_GoBp"
      },
      "execution_count": 17,
      "outputs": []
    },
    {
      "cell_type": "code",
      "source": [
        "!python3 make_dataset.py"
      ],
      "metadata": {
        "id": "HIFnFjUFMAl8"
      },
      "execution_count": null,
      "outputs": []
    }
  ]
}