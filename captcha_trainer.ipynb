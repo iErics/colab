{
  "nbformat": 4,
  "nbformat_minor": 0,
  "metadata": {
    "colab": {
      "provenance": [],
      "mount_file_id": "172PcOMMDWFubJM9o-cqEiLWYYEHw8cGU",
      "authorship_tag": "ABX9TyOFZh0T1z54kYPRp5olcsTk",
      "include_colab_link": true
    },
    "kernelspec": {
      "name": "python3",
      "display_name": "Python 3"
    },
    "language_info": {
      "name": "python"
    },
    "gpuClass": "standard",
    "accelerator": "GPU"
  },
  "cells": [
    {
      "cell_type": "markdown",
      "metadata": {
        "id": "view-in-github",
        "colab_type": "text"
      },
      "source": [
        "<a href=\"https://colab.research.google.com/github/iErics/colab/blob/master/captcha_trainer.ipynb\" target=\"_parent\"><img src=\"https://colab.research.google.com/assets/colab-badge.svg\" alt=\"Open In Colab\"/></a>"
      ]
    },
    {
      "cell_type": "markdown",
      "source": [
        "[可以作为参考的文章](https://www.cnblogs.com/aleafo/p/16903377.html)"
      ],
      "metadata": {
        "id": "1JhUCWJu0cJq"
      }
    },
    {
      "cell_type": "code",
      "source": [
        "!nvidia-smi"
      ],
      "metadata": {
        "id": "Z65c4vT1-GdW"
      },
      "execution_count": null,
      "outputs": []
    },
    {
      "cell_type": "code",
      "source": [
        "#@title 配置环境，拉取代码\n",
        "!pip uninstall -y tensorflow tensor2tensor tensorboard tensorboardcolab tensorflow-datasets tensorflow-estimator tensorflow-gan tensorflow-hub tensorflow-metadata tensorflow-privacy tensorflow-probability\n",
        "!pip install tensorflow-gpu==2.8\n",
        "!git clone https://github.com/kerlomz/captcha_trainer.git\n",
        "%cd captcha_trainer\n",
        "!pip install -r requirements.txt"
      ],
      "metadata": {
        "id": "Mbixsh_v_fw-"
      },
      "execution_count": null,
      "outputs": []
    },
    {
      "cell_type": "code",
      "source": [
        "!cp /content/drive/MyDrive/captcha/mnist.zip /content/captcha_trainer/projects/dropbox"
      ],
      "metadata": {
        "id": "3fxbc4rACuj2"
      },
      "execution_count": 5,
      "outputs": []
    },
    {
      "cell_type": "code",
      "source": [
        "import zipfile\n",
        "\n",
        "# 解压文件到指定目录\n",
        "with zipfile.ZipFile('/content/captcha_trainer/projects/dropbox/mnist.zip', 'r') as zip_ref:\n",
        "    zip_ref.extractall('/content/captcha_trainer/projects/dropbox')"
      ],
      "metadata": {
        "id": "FadZyFm_GoBp"
      },
      "execution_count": 7,
      "outputs": []
    },
    {
      "cell_type": "code",
      "source": [
        "#@title 打包数据集\n",
        "!python3 make_dataset.py"
      ],
      "metadata": {
        "id": "HIFnFjUFMAl8"
      },
      "execution_count": null,
      "outputs": []
    },
    {
      "cell_type": "code",
      "source": [
        "#@title 开始训练\n",
        "!python3 trains.py"
      ],
      "metadata": {
        "cellView": "form",
        "id": "xQKyGL_pl2e9"
      },
      "execution_count": null,
      "outputs": []
    }
  ]
}