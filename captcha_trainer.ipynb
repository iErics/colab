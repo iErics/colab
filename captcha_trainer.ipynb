{
  "nbformat": 4,
  "nbformat_minor": 0,
  "metadata": {
    "colab": {
      "provenance": [],
      "mount_file_id": "172PcOMMDWFubJM9o-cqEiLWYYEHw8cGU",
      "authorship_tag": "ABX9TyOd8Kp0KY0v+TZGXl4tuWhd",
      "include_colab_link": true
    },
    "kernelspec": {
      "name": "python3",
      "display_name": "Python 3"
    },
    "language_info": {
      "name": "python"
    },
    "gpuClass": "standard",
    "accelerator": "GPU"
  },
  "cells": [
    {
      "cell_type": "markdown",
      "metadata": {
        "id": "view-in-github",
        "colab_type": "text"
      },
      "source": [
        "<a href=\"https://colab.research.google.com/github/iErics/colab/blob/master/captcha_trainer.ipynb\" target=\"_parent\"><img src=\"https://colab.research.google.com/assets/colab-badge.svg\" alt=\"Open In Colab\"/></a>"
      ]
    },
    {
      "cell_type": "code",
      "source": [
        "!nvidia-smi"
      ],
      "metadata": {
        "id": "Z65c4vT1-GdW",
        "colab": {
          "base_uri": "https://localhost:8080/"
        },
        "outputId": "5ff788fc-e121-49f7-f2dd-2f369980907e"
      },
      "execution_count": 14,
      "outputs": [
        {
          "output_type": "stream",
          "name": "stdout",
          "text": [
            "Sat Mar  4 07:51:49 2023       \n",
            "+-----------------------------------------------------------------------------+\n",
            "| NVIDIA-SMI 525.85.12    Driver Version: 525.85.12    CUDA Version: 12.0     |\n",
            "|-------------------------------+----------------------+----------------------+\n",
            "| GPU  Name        Persistence-M| Bus-Id        Disp.A | Volatile Uncorr. ECC |\n",
            "| Fan  Temp  Perf  Pwr:Usage/Cap|         Memory-Usage | GPU-Util  Compute M. |\n",
            "|                               |                      |               MIG M. |\n",
            "|===============================+======================+======================|\n",
            "|   0  Tesla T4            Off  | 00000000:00:04.0 Off |                    0 |\n",
            "| N/A   66C    P0    30W /  70W |      0MiB / 15360MiB |      0%      Default |\n",
            "|                               |                      |                  N/A |\n",
            "+-------------------------------+----------------------+----------------------+\n",
            "                                                                               \n",
            "+-----------------------------------------------------------------------------+\n",
            "| Processes:                                                                  |\n",
            "|  GPU   GI   CI        PID   Type   Process name                  GPU Memory |\n",
            "|        ID   ID                                                   Usage      |\n",
            "|=============================================================================|\n",
            "|  No running processes found                                                 |\n",
            "+-----------------------------------------------------------------------------+\n"
          ]
        }
      ]
    },
    {
      "cell_type": "code",
      "source": [
        "#@title 配置环境，拉取代码\n",
        "!pip uninstall -y tensorflow tensor2tensor tensorboard tensorboardcolab tensorflow-datasets tensorflow-estimator tensorflow-gan tensorflow-hub tensorflow-metadata tensorflow-privacy tensorflow-probability\n",
        "!pip install tensorflow-gpu==2.8\n",
        "!git clone https://github.com/kerlomz/captcha_trainer.git\n",
        "%cd captcha_trainer\n",
        "!pip install -r requirements.txt"
      ],
      "metadata": {
        "id": "Mbixsh_v_fw-"
      },
      "execution_count": null,
      "outputs": []
    },
    {
      "cell_type": "code",
      "source": [
        "!cp /content/drive/MyDrive/captcha/mnist.zip /content/captcha_trainer/projects/dropbox"
      ],
      "metadata": {
        "id": "3fxbc4rACuj2"
      },
      "execution_count": 5,
      "outputs": []
    },
    {
      "cell_type": "code",
      "source": [
        "import zipfile\n",
        "\n",
        "# 解压文件到指定目录\n",
        "with zipfile.ZipFile('/content/captcha_trainer/projects/dropbox/mnist.zip', 'r') as zip_ref:\n",
        "    zip_ref.extractall('/content/captcha_trainer/projects/dropbox')"
      ],
      "metadata": {
        "id": "FadZyFm_GoBp"
      },
      "execution_count": 7,
      "outputs": []
    },
    {
      "cell_type": "code",
      "source": [
        "#@title 打包数据集\n",
        "!python3 make_dataset.py"
      ],
      "metadata": {
        "id": "HIFnFjUFMAl8"
      },
      "execution_count": null,
      "outputs": []
    },
    {
      "cell_type": "code",
      "source": [
        "#@title 开始训练\n",
        "!python3 trains.py"
      ],
      "metadata": {
        "cellView": "form",
        "id": "xQKyGL_pl2e9"
      },
      "execution_count": null,
      "outputs": []
    }
  ]
}